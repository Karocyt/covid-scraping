{
  "nbformat": 4,
  "nbformat_minor": 0,
  "metadata": {
    "colab": {
      "name": "papers.ssrn.com.ipynb",
      "provenance": []
    },
    "kernelspec": {
      "display_name": "Python 3",
      "language": "python",
      "name": "python3"
    },
    "language_info": {
      "codemirror_mode": {
        "name": "ipython",
        "version": 3
      },
      "file_extension": ".py",
      "mimetype": "text/x-python",
      "name": "python",
      "nbconvert_exporter": "python",
      "pygments_lexer": "ipython3",
      "version": "3.6.8"
    }
  },
  "cells": [
    {
      "cell_type": "markdown",
      "metadata": {
        "colab_type": "text",
        "id": "bRcrZmh5i9ew"
      },
      "source": [
        "example https://papers.ssrn.com/sol3/papers.cfm?abstract_id=3539694"
      ]
    },
    {
      "cell_type": "code",
      "metadata": {
        "colab_type": "code",
        "id": "ZNCXCKWyAlti",
        "outputId": "9873cd11-40f4-4dff-a02a-cdf8ceab4573",
        "scrolled": true,
        "colab": {
          "base_uri": "https://localhost:8080/",
          "height": 952
        }
      },
      "source": [
        "#!if [ ! -f ArticleScraper.ipynb ]; then \n",
        "!curl https://raw.githubusercontent.com/Karocyt/covid-scraping/master/ArticleScraper.ipynb > ArticleScraper.ipynb\n",
        "#; else echo \"Already done\"; fi\n",
        "%run ArticleScraper.ipynb"
      ],
      "execution_count": 95,
      "outputs": [
        {
          "output_type": "stream",
          "text": [
            "  % Total    % Received % Xferd  Average Speed   Time    Time     Time  Current\n",
            "                                 Dload  Upload   Total   Spent    Left  Speed\n",
            "\r  0     0    0     0    0     0      0      0 --:--:-- --:--:-- --:--:--     0\r100 17261  100 17261    0     0  87176      0 --:--:-- --:--:-- --:--:-- 87619\n",
            "Requirement already satisfied: requests in /usr/local/lib/python3.6/dist-packages (2.21.0)\n",
            "Requirement already satisfied: beautifulsoup4 in /usr/local/lib/python3.6/dist-packages (4.6.3)\n",
            "Requirement already satisfied: lxml in /usr/local/lib/python3.6/dist-packages (4.2.6)\n",
            "Requirement already satisfied: datetime in /usr/local/lib/python3.6/dist-packages (4.3)\n",
            "Requirement already satisfied: idna<2.9,>=2.5 in /usr/local/lib/python3.6/dist-packages (from requests) (2.8)\n",
            "Requirement already satisfied: certifi>=2017.4.17 in /usr/local/lib/python3.6/dist-packages (from requests) (2019.11.28)\n",
            "Requirement already satisfied: chardet<3.1.0,>=3.0.2 in /usr/local/lib/python3.6/dist-packages (from requests) (3.0.4)\n",
            "Requirement already satisfied: urllib3<1.25,>=1.21.1 in /usr/local/lib/python3.6/dist-packages (from requests) (1.24.3)\n",
            "Requirement already satisfied: pytz in /usr/local/lib/python3.6/dist-packages (from datetime) (2018.9)\n",
            "Requirement already satisfied: zope.interface in /usr/local/lib/python3.6/dist-packages (from datetime) (5.0.0)\n",
            "Requirement already satisfied: setuptools in /usr/local/lib/python3.6/dist-packages (from zope.interface->datetime) (46.0.0)\n",
            "Requirement already satisfied: selenium in /usr/local/lib/python3.6/dist-packages (3.141.0)\n",
            "Requirement already satisfied: urllib3 in /usr/local/lib/python3.6/dist-packages (from selenium) (1.24.3)\n",
            "Hit:1 http://security.ubuntu.com/ubuntu bionic-security InRelease\n",
            "Ign:2 https://developer.download.nvidia.com/compute/cuda/repos/ubuntu1804/x86_64  InRelease\n",
            "Hit:3 https://cloud.r-project.org/bin/linux/ubuntu bionic-cran35/ InRelease\n",
            "Hit:4 http://ppa.launchpad.net/graphics-drivers/ppa/ubuntu bionic InRelease\n",
            "Hit:5 http://archive.ubuntu.com/ubuntu bionic InRelease\n",
            "Ign:6 https://developer.download.nvidia.com/compute/machine-learning/repos/ubuntu1804/x86_64  InRelease\n",
            "Hit:7 https://developer.download.nvidia.com/compute/cuda/repos/ubuntu1804/x86_64  Release\n",
            "Hit:8 https://developer.download.nvidia.com/compute/machine-learning/repos/ubuntu1804/x86_64  Release\n",
            "Hit:9 http://archive.ubuntu.com/ubuntu bionic-updates InRelease\n",
            "Hit:10 http://ppa.launchpad.net/marutter/c2d4u3.5/ubuntu bionic InRelease\n",
            "Hit:11 http://archive.ubuntu.com/ubuntu bionic-backports InRelease\n",
            "Reading package lists... Done\n",
            "Reading package lists... Done\n",
            "Building dependency tree       \n",
            "Reading state information... Done\n",
            "chromium-chromedriver is already the newest version (80.0.3987.87-0ubuntu0.18.04.1).\n",
            "0 upgraded, 0 newly installed, 0 to remove and 25 not upgraded.\n",
            "cp: '/usr/lib/chromium-browser/chromedriver' and '/usr/bin/chromedriver' are the same file\n"
          ],
          "name": "stdout"
        },
        {
          "output_type": "error",
          "ename": "AttributeError",
          "evalue": "ignored",
          "traceback": [
            "\u001b[0;31m---------------------------------------------------------------------------\u001b[0m",
            "\u001b[0;31mAttributeError\u001b[0m                            Traceback (most recent call last)",
            "\u001b[0;32m/content/ArticleScraper.ipynb\u001b[0m in \u001b[0;36m<module>\u001b[0;34m()\u001b[0m\n\u001b[0;32m----> 1\u001b[0;31m \u001b[0;32mclass\u001b[0m \u001b[0mArticleScraper\u001b[0m\u001b[0;34m:\u001b[0m\u001b[0;34m\u001b[0m\u001b[0;34m\u001b[0m\u001b[0m\n\u001b[0m\u001b[1;32m      2\u001b[0m   \u001b[0mwd\u001b[0m \u001b[0;34m=\u001b[0m \u001b[0minit_selenium\u001b[0m\u001b[0;34m(\u001b[0m\u001b[0;34m)\u001b[0m\u001b[0;34m\u001b[0m\u001b[0;34m\u001b[0m\u001b[0m\n\u001b[1;32m      3\u001b[0m   \u001b[0murl\u001b[0m \u001b[0;34m=\u001b[0m \u001b[0;32mNone\u001b[0m\u001b[0;34m\u001b[0m\u001b[0;34m\u001b[0m\u001b[0m\n\u001b[1;32m      4\u001b[0m   \u001b[0mpage\u001b[0m \u001b[0;34m=\u001b[0m \u001b[0;32mNone\u001b[0m\u001b[0;34m\u001b[0m\u001b[0;34m\u001b[0m\u001b[0m\n\u001b[1;32m      5\u001b[0m   \u001b[0mdate_format\u001b[0m \u001b[0;34m=\u001b[0m \u001b[0;34m\"%m/%d/%Y\"\u001b[0m\u001b[0;34m\u001b[0m\u001b[0;34m\u001b[0m\u001b[0m\n",
            "\u001b[0;32m/content/ArticleScraper.ipynb\u001b[0m in \u001b[0;36mArticleScraper\u001b[0;34m()\u001b[0m\n\u001b[1;32m      1\u001b[0m \u001b[0;32mclass\u001b[0m \u001b[0mArticleScraper\u001b[0m\u001b[0;34m:\u001b[0m\u001b[0;34m\u001b[0m\u001b[0;34m\u001b[0m\u001b[0m\n\u001b[0;32m----> 2\u001b[0;31m   \u001b[0mwd\u001b[0m \u001b[0;34m=\u001b[0m \u001b[0minit_selenium\u001b[0m\u001b[0;34m(\u001b[0m\u001b[0;34m)\u001b[0m\u001b[0;34m\u001b[0m\u001b[0;34m\u001b[0m\u001b[0m\n\u001b[0m\u001b[1;32m      3\u001b[0m   \u001b[0murl\u001b[0m \u001b[0;34m=\u001b[0m \u001b[0;32mNone\u001b[0m\u001b[0;34m\u001b[0m\u001b[0;34m\u001b[0m\u001b[0m\n\u001b[1;32m      4\u001b[0m   \u001b[0mpage\u001b[0m \u001b[0;34m=\u001b[0m \u001b[0;32mNone\u001b[0m\u001b[0;34m\u001b[0m\u001b[0;34m\u001b[0m\u001b[0m\n\u001b[1;32m      5\u001b[0m   \u001b[0mdate_format\u001b[0m \u001b[0;34m=\u001b[0m \u001b[0;34m\"%m/%d/%Y\"\u001b[0m\u001b[0;34m\u001b[0m\u001b[0;34m\u001b[0m\u001b[0m\n",
            "\u001b[0;32m/content/ArticleScraper.ipynb\u001b[0m in \u001b[0;36minit_selenium\u001b[0;34m()\u001b[0m\n\u001b[1;32m     16\u001b[0m     \u001b[0mchrome_options\u001b[0m\u001b[0;34m.\u001b[0m\u001b[0madd_argument\u001b[0m\u001b[0;34m(\u001b[0m\u001b[0;34m'--disable-dev-shm-usage'\u001b[0m\u001b[0;34m)\u001b[0m\u001b[0;34m\u001b[0m\u001b[0;34m\u001b[0m\u001b[0m\n\u001b[1;32m     17\u001b[0m     chrome_options.add_experimental_option('prefs',  {\n\u001b[0;32m---> 18\u001b[0;31m     \u001b[0;34m\"download.default_directory\"\u001b[0m\u001b[0;34m:\u001b[0m \u001b[0mos\u001b[0m\u001b[0;34m.\u001b[0m\u001b[0mcwd\u001b[0m\u001b[0;34m(\u001b[0m\u001b[0;34m)\u001b[0m\u001b[0;34m,\u001b[0m\u001b[0;34m\u001b[0m\u001b[0;34m\u001b[0m\u001b[0m\n\u001b[0m\u001b[1;32m     19\u001b[0m     \u001b[0;34m\"download.prompt_for_download\"\u001b[0m\u001b[0;34m:\u001b[0m \u001b[0;32mFalse\u001b[0m\u001b[0;34m,\u001b[0m\u001b[0;34m\u001b[0m\u001b[0;34m\u001b[0m\u001b[0m\n\u001b[1;32m     20\u001b[0m     \u001b[0;34m\"download.directory_upgrade\"\u001b[0m\u001b[0;34m:\u001b[0m \u001b[0;32mTrue\u001b[0m\u001b[0;34m,\u001b[0m\u001b[0;34m\u001b[0m\u001b[0;34m\u001b[0m\u001b[0m\n",
            "\u001b[0;31mAttributeError\u001b[0m: module 'os' has no attribute 'cwd'"
          ]
        }
      ]
    },
    {
      "cell_type": "code",
      "metadata": {
        "id": "h9QjIPhYsT65",
        "colab_type": "code",
        "colab": {
          "base_uri": "https://localhost:8080/",
          "height": 34
        },
        "outputId": "49279119-e737-4023-90fd-2feeab435d68"
      },
      "source": [
        "!pip3 install PyPDF2\n",
        "\n",
        "from selenium.webdriver.common.by import By\n",
        "import time\n",
        "import io\n",
        "import PyPDF2"
      ],
      "execution_count": 96,
      "outputs": [
        {
          "output_type": "stream",
          "text": [
            "Requirement already satisfied: PyPDF2 in /usr/local/lib/python3.6/dist-packages (1.26.0)\n"
          ],
          "name": "stdout"
        }
      ]
    },
    {
      "cell_type": "code",
      "metadata": {
        "colab_type": "code",
        "id": "l_CKHDa_mai_",
        "colab": {}
      },
      "source": [
        "example_dicts = [{'authors': 'C You, Y Deng, W Hu, J Sun, Q Lin, F Zhou… - Available at SSRN …, 2020 - papers.ssrn.com',\n",
        "  'extra_link': 'https://www.medrxiv.org/content/medrxiv/early/2020/02/11/2020.02.08.20021253.full.pdf',\n",
        "  'extra_link_text': '[PDF] medrxiv.org',\n",
        "  'link': 'https://papers.ssrn.com/sol3/papers.cfm?abstract_id=3539694',\n",
        "  'preview': 'Background: The 2019 novel coronavirus (2019-nCoV) outbreak in Wuhan, China has\\nattracted world-wide attention. As of February 11, 2020, a total of 44,730 cases of\\npneumonia associated with the 2019-nCoV were confirmed by the National Health …',\n",
        "  'title': 'Estimation of the Time-Varying Reproduction Number of COVID-19 Outbreak in China'},\n",
        " {'authors': 'J Gao, P Zheng, Y Jia, H Chen, Y Mao… - Available at SSRN …, 2020 - papers.ssrn.com',\n",
        "  'extra_link': '',\n",
        "  'extra_link_text': '',\n",
        "  'link': 'https://papers.ssrn.com/sol3/papers.cfm?abstract_id=3541120',\n",
        "  'preview': 'Background: Huge citizens expos social media during a novel coronavirus disease (COVID-\\n19) outbroke in Wuhan, China. We assess the prevalence of mental health problems and\\nexamine their association with social media exposure. Methods: We conducted a cross …',\n",
        "  'title': 'Mental Health Problems and Social Media Exposure During COVID-19 Outbreak'},\n",
        " {'authors': 'C GU, W Jiang, T Zhao, B Zheng - Available at SSRN 3551006, 2020 - papers.ssrn.com',\n",
        "  'extra_link': '',\n",
        "  'extra_link_text': '',\n",
        "  'link': 'https://papers.ssrn.com/sol3/papers.cfm?abstract_id=3551006',\n",
        "  'preview': 'The statistics show that the mortality of COVID-19 is 20 times higher than seasonal flu and\\nclose to that of Spanish flu, hence it is becoming an absolute priority for every country to take\\nefficient measure to limit the transmission of COVID-19. In this short paper, we propose a …',\n",
        "  'title': 'Mathematical Recommendations to Fight Against COVID-19'},\n",
        "  ]"
      ],
      "execution_count": 0,
      "outputs": []
    },
    {
      "cell_type": "code",
      "metadata": {
        "colab_type": "code",
        "id": "WXSKPyznsTqo",
        "colab": {}
      },
      "source": [
        "class SsrnSingleScraper(ArticleScraper):\n",
        "  page_dict = None\n",
        "\n",
        "  def __init__(self, page_dict):\n",
        "    ArticleScraper.wd.get(page_dict['link'])\n",
        "    self.page_dict = page_dict\n",
        "    ArticleScraper.__init__(self, page_dict['link'])\n",
        "\n",
        "  @property\n",
        "  def title(self):\n",
        "    return self.page.head.title.text.split(' by ')[0]\n",
        "\n",
        "  @property\n",
        "  def authors(self):\n",
        "    return self.page.head.title.text.split(' by ')[1].split(\" ::\")[0]\n",
        "\n",
        "  @property\n",
        "  def doi(self):\n",
        "    return 'SSRN-ID' + self.page_dict['link'].split('=')[1]\n",
        "\n",
        "  @property\n",
        "  def abstract(self):\n",
        "    div = self.page.find(\"div\", {\"class\": \"abstract-text\"})\n",
        "    text = div.find(\"p\").text\n",
        "    return text\n",
        "\n",
        "  @property\n",
        "  def date(self):\n",
        "    xpath = '//*[@id=\"selectable\"]/text()'\n",
        "    text = self.tree.xpath(xpath)[0]\n",
        "    try:\n",
        "      date = datetime.strptime(text.split(\")\")[-2].split(\"(\")[-1], '%m/%d/%Y')\n",
        "    except:\n",
        "      date = datetime.strptime(text.split(\")\")[-2].split(\"(\")[-1], '%B %d, %Y')\n",
        "    return date.strftime(self.date_format)\n",
        "\n",
        "  @property\n",
        "  def body(self):\n",
        "    time.sleep(0.5)\n",
        "    ArticleScraper.wd.find_element(By.XPATH, '//*[@id=\"maincontent\"]/div[1]/div[1]/div/div[2]/a').click()\n",
        "    time.sleep(0.5)\n",
        "    content = \"\"\n",
        "    print(os.listdir()) ### Not downloaded anymore ?! Despite waits everywhere ?! Time to sleep\n",
        "    for file in os.listdir():\n",
        "      if file.endswith(\".pdf\"):\n",
        "        with open(file, 'rb') as f:\n",
        "          pdf_reader = PyPDF2.PdfFileReader(f)\n",
        "          for page in pdf_reader.pages:\n",
        "            content += page.extractText()\n",
        "        os.remove(file)\n",
        "        break\n",
        "    \n",
        "    print(len(content)) ### TO CLEAN (raw)\n",
        "    return None\n",
        "\n",
        "  @property\n",
        "  def source(self):\n",
        "    return \"SSRN\"\n",
        "\n",
        "  @property\n",
        "  def source_impact_factor(self):\n",
        "    return None\n",
        "\n",
        "  @property\n",
        "  def search_keyword(self):\n",
        "    return None\n",
        "\n",
        "  @property\n",
        "  def categories(self):\n",
        "    return None\n",
        "\n",
        "  @property\n",
        "  def licence(self):\n",
        "    return None\n",
        "\n",
        "  @property\n",
        "  def citations(self):\n",
        "    return None\n",
        "\n",
        "  @property\n",
        "  def organization(self):\n",
        "    # Using organization of lead author\n",
        "    try:\n",
        "      authors = ArticleScraper.wd.find_element(By.CLASS_NAME, 'authors-full-width') ##### TO FIX\n",
        "      return authors.find_element(By.TAG_NAME, 'p').text\n",
        "    except Exception as e:\n",
        "      print(\"ERROR handling org name:\", e)\n",
        "    return None\n",
        "\n",
        "  @property\n",
        "  def keywords(self):\n",
        "    keywords = self.page.find(text='Keywords:').parent.parent.text.split(': ')[1]\n",
        "    return \",\".join(keywords.split(';'))\n",
        "\n",
        "  @property\n",
        "  def references(self):\n",
        "    wd = ArticleScraper.wd\n",
        "    wd.find_element_by_xpath('//*[@id=\"references-widget\"]/button').click() # Not working anymore ?! WTF ? Need screenshot and sleep\n",
        "    time.sleep(0.2)\n",
        "    li_list = wd.find_elements_by_xpath('//*[@id=\"references-widget\"]/ol/li')\n",
        "    refs = []\n",
        "    for elem in li_list:\n",
        "      ref = {}\n",
        "      try:\n",
        "        ref['title'] = elem.find_element(By.CLASS_NAME, 'reference-title').text\n",
        "      except:\n",
        "        ref['title'] = \"\"\n",
        "      \n",
        "      try:\n",
        "        ref['authors'] = elem.find_element(By.CLASS_NAME, 'author-list').text\n",
        "      except:\n",
        "        ref['authors'] = \"\"\n",
        "      \n",
        "      try:\n",
        "        link = elem.find_element(By.TAG_NAME,  'a')\n",
        "        ref['link'] = link.get_attribute('href')\n",
        "      except:\n",
        "        ref['link'] = \"\"\n",
        "      refs.append(ref)\n",
        "    \n",
        "    return refs\n",
        "\n",
        "  @property\n",
        "  def link(self):\n",
        "    return self.page_dict['link']\n",
        "\n",
        "  @property\n",
        "  def extralinks(self):\n",
        "    return self.page_dict['extra_link']\n",
        "  "
      ],
      "execution_count": 0,
      "outputs": []
    },
    {
      "cell_type": "code",
      "metadata": {
        "colab_type": "code",
        "id": "dW_w8jyIzwlJ",
        "outputId": "ed2f1a57-763b-4201-ae39-fa46442405f6",
        "colab": {
          "base_uri": "https://localhost:8080/",
          "height": 853
        }
      },
      "source": [
        "class SsrnScraper():\n",
        "  def parse(self, pages_dict):\n",
        "    for d in pages_dict:\n",
        "      yield SsrnSingleScraper(d).parse()  \n",
        "\n",
        "scraper = SsrnScraper()\n",
        "for d in scraper.parse(example_dicts):\n",
        "  for k in d:\n",
        "    print(k, d[k], sep=\": \")\n",
        "  print()"
      ],
      "execution_count": 120,
      "outputs": [
        {
          "output_type": "stream",
          "text": [
            "['.config', 'ArticleScraper.ipynb', 'covid-scraping', 'ArticleScraper.ipyn', 'sample_data']\n",
            "0\n",
            "Title: Estimation of the Time-Varying Reproduction Number of COVID-19 Outbreak in China\n",
            "Authors: Chong You, Yuhao Deng, Wenjie Hu, Jiarui Sun, Qiushi Lin, Feng Zhou, Cheng Heng Pang, Yuan Zhang, Zhengchao Chen, Xiao-Hua Zhou\n",
            "DOI: SSRN-ID3539694\n",
            "Abstract: Background: The 2019 novel coronavirus (2019-nCoV) outbreak in Wuhan, China has attracted world-wide attention. As of February 11, 2020, a total of 44,730 cases of pneumonia associated with the 2019-nCoV were confirmed by the National Health Commission (NHC) of China.    Methods: Three approaches, namely Poisson likelihood-based method (ML), exponential growth rate-based method (EGR) and stochastic Susceptible-Infected-Removed dynamic model-based method (SIR), were implemented to estimate the basic and controlled reproduction numbers.    Results: A total of 71 chains of transmission together with dates of symptoms onset and 67 dates of infections were identified among 5,405 confirmed cases outside Hubei as reported by February 2, 2020. Based on this information, we find the serial interval having an average of 4.27 days with a standard deviation of 3.44 days, the incubation period having an average of 5.33 days with a standard deviation of 3.36 days and the infectious period having an average of 10.91 days with a standard deviation of 3.95 days. The estimated controlled reproduction numbers, 𝑅𝑐 , produced by all three methods in all analyzed regions of China are significantly smaller compared with the basic reproduction numbers 𝑅0. Conclusions: The controlled reproduction number is declining. It is lower than one in most regions of China, but still larger than one in Hubei Province. Sustained efforts are needed to further keep/reduce the 𝑅𝑐 to below one in order to end the current epidemic.Funding Statement: The authors stated that they have no financial relationships (regardless of amount of compensation) with any entities.Declaration of Interests: The authors declare there is no conflict of interest.Ethics Approval Statement: The authors stated this was not required. \n",
            "Date: 02/17/2020\n",
            "Full body: None\n",
            "Source: SSRN\n",
            "Source impact factor: None\n",
            "Search keyword: None\n",
            "Category: None\n",
            "Licencing: None\n",
            "Document acquisition date: 03/20/2020\n",
            "Citations: None\n",
            "Organization affiliated: Peking University - Beijing International Center for Mathematical Research\n",
            "Keywords: serial interval, incubation period, infectious period, reproduction rate\n",
            "References: [{'title': '', 'authors': 'C Huang, Y Wang, X Li, L Ren, J Zhao, Y Hu, . . Cheng, Z', 'link': 'https://doi.org/10.1016/s0140-6736(20)30183-5'}, {'title': 'A novel coronavirus outbreak of global health concern', 'authors': 'C Wang, P W Horby, F G Hayden, G F Gao', 'link': 'https://doi.org/10.1016/s0140-6736(20)30185-9'}, {'title': 'Estimation in emerging epidemics: Biases and remedies', 'authors': 'Tom Britton, Gianpaolo Scalia Tomba', 'link': 'https://doi.org/10.1098/rsif.2018.0670'}, {'title': 'Transmission dynamics and control of severe acute respiratory syndrome', 'authors': 'M Lipsitch, T Cohen, B Cooper', 'link': 'https://doi.org/10.1126/science.1086616'}, {'title': '', 'authors': 'R M Anderson, B Anderson, R M May', 'link': ''}, {'title': '', 'authors': 'R Nikbakht, M R Baneshi, A Bahrampour, A Hosseinnataj', 'link': ''}, {'title': '', 'authors': 'Data', 'link': ''}, {'title': 'A likelihood-based method for real-time estimation of the serial interval and reproductive number of an epidemic', 'authors': 'L Forsberg White, M Pagano', 'link': 'https://doi.org/10.1002/sim.3136'}, {'title': 'How generation intervals shape the relationship between growth rates and reproductive numbers', 'authors': 'J Wallinga, M Lipsitch', 'link': 'https://doi.org/10.1098/rspb.2006.3754'}, {'title': '', 'authors': '', 'link': 'https://doi.org/10.1098/rspb.2015.0347'}, {'title': '', 'authors': '', 'link': 'https://doi.org/10.1039/pl9042000131'}, {'title': '', 'authors': '', 'link': ''}, {'title': 'Inference for dynamic and latent variable models via iterated, perturbed Bayes maps', 'authors': 'E L Ionides, D Nguyen, Y Atchad´e, S Stoev, A A King', 'link': 'https://doi.org/10.1073/pnas.1410597112'}, {'title': '', 'authors': 'A A King, E L Ionides, C M Bret´o, S Ellner, B Kendall, H Wearing, M J Ferrari, M Lavine, D C Reuman', 'link': 'https://doi.org/10.18637/jss.v069.i12'}, {'title': '', 'authors': '', 'link': 'https://doi.org/10.4159/harvard.9780674073517.c13'}, {'title': '', 'authors': '', 'link': ''}, {'title': '', 'authors': '', 'link': ''}]\n",
            "Link: https://papers.ssrn.com/sol3/papers.cfm?abstract_id=3539694\n",
            "Extra links: https://www.medrxiv.org/content/medrxiv/early/2020/02/11/2020.02.08.20021253.full.pdf\n",
            "\n",
            "['.config', 'ArticleScraper.ipynb', 'covid-scraping', 'ArticleScraper.ipyn', 'sample_data']\n",
            "0\n",
            "ERROR handling org name: Message: no such element: Unable to locate element: {\"method\":\"css selector\",\"selector\":\".authors-full-width\"}\n",
            "  (Session info: headless chrome=80.0.3987.87)\n",
            "\n"
          ],
          "name": "stdout"
        },
        {
          "output_type": "error",
          "ename": "NoSuchElementException",
          "evalue": "ignored",
          "traceback": [
            "\u001b[0;31m---------------------------------------------------------------------------\u001b[0m",
            "\u001b[0;31mNoSuchElementException\u001b[0m                    Traceback (most recent call last)",
            "\u001b[0;32m<ipython-input-120-ee3b76f772a0>\u001b[0m in \u001b[0;36m<module>\u001b[0;34m()\u001b[0m\n\u001b[1;32m      5\u001b[0m \u001b[0;34m\u001b[0m\u001b[0m\n\u001b[1;32m      6\u001b[0m \u001b[0mscraper\u001b[0m \u001b[0;34m=\u001b[0m \u001b[0mSsrnScraper\u001b[0m\u001b[0;34m(\u001b[0m\u001b[0;34m)\u001b[0m\u001b[0;34m\u001b[0m\u001b[0;34m\u001b[0m\u001b[0m\n\u001b[0;32m----> 7\u001b[0;31m \u001b[0;32mfor\u001b[0m \u001b[0md\u001b[0m \u001b[0;32min\u001b[0m \u001b[0mscraper\u001b[0m\u001b[0;34m.\u001b[0m\u001b[0mparse\u001b[0m\u001b[0;34m(\u001b[0m\u001b[0mexample_dicts\u001b[0m\u001b[0;34m)\u001b[0m\u001b[0;34m:\u001b[0m\u001b[0;34m\u001b[0m\u001b[0;34m\u001b[0m\u001b[0m\n\u001b[0m\u001b[1;32m      8\u001b[0m   \u001b[0;32mfor\u001b[0m \u001b[0mk\u001b[0m \u001b[0;32min\u001b[0m \u001b[0md\u001b[0m\u001b[0;34m:\u001b[0m\u001b[0;34m\u001b[0m\u001b[0;34m\u001b[0m\u001b[0m\n\u001b[1;32m      9\u001b[0m     \u001b[0mprint\u001b[0m\u001b[0;34m(\u001b[0m\u001b[0mk\u001b[0m\u001b[0;34m,\u001b[0m \u001b[0md\u001b[0m\u001b[0;34m[\u001b[0m\u001b[0mk\u001b[0m\u001b[0;34m]\u001b[0m\u001b[0;34m,\u001b[0m \u001b[0msep\u001b[0m\u001b[0;34m=\u001b[0m\u001b[0;34m\": \"\u001b[0m\u001b[0;34m)\u001b[0m\u001b[0;34m\u001b[0m\u001b[0;34m\u001b[0m\u001b[0m\n",
            "\u001b[0;32m<ipython-input-120-ee3b76f772a0>\u001b[0m in \u001b[0;36mparse\u001b[0;34m(self, pages_dict)\u001b[0m\n\u001b[1;32m      2\u001b[0m   \u001b[0;32mdef\u001b[0m \u001b[0mparse\u001b[0m\u001b[0;34m(\u001b[0m\u001b[0mself\u001b[0m\u001b[0;34m,\u001b[0m \u001b[0mpages_dict\u001b[0m\u001b[0;34m)\u001b[0m\u001b[0;34m:\u001b[0m\u001b[0;34m\u001b[0m\u001b[0;34m\u001b[0m\u001b[0m\n\u001b[1;32m      3\u001b[0m     \u001b[0;32mfor\u001b[0m \u001b[0md\u001b[0m \u001b[0;32min\u001b[0m \u001b[0mpages_dict\u001b[0m\u001b[0;34m:\u001b[0m\u001b[0;34m\u001b[0m\u001b[0;34m\u001b[0m\u001b[0m\n\u001b[0;32m----> 4\u001b[0;31m       \u001b[0;32myield\u001b[0m \u001b[0mSsrnSingleScraper\u001b[0m\u001b[0;34m(\u001b[0m\u001b[0md\u001b[0m\u001b[0;34m)\u001b[0m\u001b[0;34m.\u001b[0m\u001b[0mparse\u001b[0m\u001b[0;34m(\u001b[0m\u001b[0;34m)\u001b[0m\u001b[0;34m\u001b[0m\u001b[0;34m\u001b[0m\u001b[0m\n\u001b[0m\u001b[1;32m      5\u001b[0m \u001b[0;34m\u001b[0m\u001b[0m\n\u001b[1;32m      6\u001b[0m \u001b[0mscraper\u001b[0m \u001b[0;34m=\u001b[0m \u001b[0mSsrnScraper\u001b[0m\u001b[0;34m(\u001b[0m\u001b[0;34m)\u001b[0m\u001b[0;34m\u001b[0m\u001b[0;34m\u001b[0m\u001b[0m\n",
            "\u001b[0;32m<ipython-input-90-41aad0dc251f>\u001b[0m in \u001b[0;36mparse\u001b[0;34m(self)\u001b[0m\n\u001b[1;32m    100\u001b[0m             \u001b[0;34m'Organization affiliated'\u001b[0m\u001b[0;34m:\u001b[0m \u001b[0mself\u001b[0m\u001b[0;34m.\u001b[0m\u001b[0morganization\u001b[0m\u001b[0;34m,\u001b[0m\u001b[0;34m\u001b[0m\u001b[0;34m\u001b[0m\u001b[0m\n\u001b[1;32m    101\u001b[0m             \u001b[0;34m'Keywords'\u001b[0m\u001b[0;34m:\u001b[0m \u001b[0mself\u001b[0m\u001b[0;34m.\u001b[0m\u001b[0mkeywords\u001b[0m\u001b[0;34m,\u001b[0m\u001b[0;34m\u001b[0m\u001b[0;34m\u001b[0m\u001b[0m\n\u001b[0;32m--> 102\u001b[0;31m             \u001b[0;34m'References'\u001b[0m\u001b[0;34m:\u001b[0m \u001b[0mself\u001b[0m\u001b[0;34m.\u001b[0m\u001b[0mreferences\u001b[0m\u001b[0;34m,\u001b[0m\u001b[0;34m\u001b[0m\u001b[0;34m\u001b[0m\u001b[0m\n\u001b[0m\u001b[1;32m    103\u001b[0m             \u001b[0;34m'Link'\u001b[0m\u001b[0;34m:\u001b[0m \u001b[0mself\u001b[0m\u001b[0;34m.\u001b[0m\u001b[0mlink\u001b[0m\u001b[0;34m,\u001b[0m\u001b[0;34m\u001b[0m\u001b[0;34m\u001b[0m\u001b[0m\n\u001b[1;32m    104\u001b[0m             \u001b[0;34m'Extra links'\u001b[0m\u001b[0;34m:\u001b[0m \u001b[0mself\u001b[0m\u001b[0;34m.\u001b[0m\u001b[0mextralinks\u001b[0m\u001b[0;34m,\u001b[0m\u001b[0;34m\u001b[0m\u001b[0;34m\u001b[0m\u001b[0m\n",
            "\u001b[0;32m<ipython-input-119-7f2598bfa053>\u001b[0m in \u001b[0;36mreferences\u001b[0;34m(self)\u001b[0m\n\u001b[1;32m     96\u001b[0m   \u001b[0;32mdef\u001b[0m \u001b[0mreferences\u001b[0m\u001b[0;34m(\u001b[0m\u001b[0mself\u001b[0m\u001b[0;34m)\u001b[0m\u001b[0;34m:\u001b[0m\u001b[0;34m\u001b[0m\u001b[0;34m\u001b[0m\u001b[0m\n\u001b[1;32m     97\u001b[0m     \u001b[0mwd\u001b[0m \u001b[0;34m=\u001b[0m \u001b[0mArticleScraper\u001b[0m\u001b[0;34m.\u001b[0m\u001b[0mwd\u001b[0m\u001b[0;34m\u001b[0m\u001b[0;34m\u001b[0m\u001b[0m\n\u001b[0;32m---> 98\u001b[0;31m     \u001b[0mwd\u001b[0m\u001b[0;34m.\u001b[0m\u001b[0mfind_element_by_xpath\u001b[0m\u001b[0;34m(\u001b[0m\u001b[0;34m'//*[@id=\"references-widget\"]/button'\u001b[0m\u001b[0;34m)\u001b[0m\u001b[0;34m.\u001b[0m\u001b[0mclick\u001b[0m\u001b[0;34m(\u001b[0m\u001b[0;34m)\u001b[0m\u001b[0;34m\u001b[0m\u001b[0;34m\u001b[0m\u001b[0m\n\u001b[0m\u001b[1;32m     99\u001b[0m     \u001b[0mtime\u001b[0m\u001b[0;34m.\u001b[0m\u001b[0msleep\u001b[0m\u001b[0;34m(\u001b[0m\u001b[0;36m0.2\u001b[0m\u001b[0;34m)\u001b[0m\u001b[0;34m\u001b[0m\u001b[0;34m\u001b[0m\u001b[0m\n\u001b[1;32m    100\u001b[0m     \u001b[0mli_list\u001b[0m \u001b[0;34m=\u001b[0m \u001b[0mwd\u001b[0m\u001b[0;34m.\u001b[0m\u001b[0mfind_elements_by_xpath\u001b[0m\u001b[0;34m(\u001b[0m\u001b[0;34m'//*[@id=\"references-widget\"]/ol/li'\u001b[0m\u001b[0;34m)\u001b[0m\u001b[0;34m\u001b[0m\u001b[0;34m\u001b[0m\u001b[0m\n",
            "\u001b[0;32m/usr/local/lib/python3.6/dist-packages/selenium/webdriver/remote/webdriver.py\u001b[0m in \u001b[0;36mfind_element_by_xpath\u001b[0;34m(self, xpath)\u001b[0m\n\u001b[1;32m    392\u001b[0m             \u001b[0melement\u001b[0m \u001b[0;34m=\u001b[0m \u001b[0mdriver\u001b[0m\u001b[0;34m.\u001b[0m\u001b[0mfind_element_by_xpath\u001b[0m\u001b[0;34m(\u001b[0m\u001b[0;34m'//div/td[1]'\u001b[0m\u001b[0;34m)\u001b[0m\u001b[0;34m\u001b[0m\u001b[0;34m\u001b[0m\u001b[0m\n\u001b[1;32m    393\u001b[0m         \"\"\"\n\u001b[0;32m--> 394\u001b[0;31m         \u001b[0;32mreturn\u001b[0m \u001b[0mself\u001b[0m\u001b[0;34m.\u001b[0m\u001b[0mfind_element\u001b[0m\u001b[0;34m(\u001b[0m\u001b[0mby\u001b[0m\u001b[0;34m=\u001b[0m\u001b[0mBy\u001b[0m\u001b[0;34m.\u001b[0m\u001b[0mXPATH\u001b[0m\u001b[0;34m,\u001b[0m \u001b[0mvalue\u001b[0m\u001b[0;34m=\u001b[0m\u001b[0mxpath\u001b[0m\u001b[0;34m)\u001b[0m\u001b[0;34m\u001b[0m\u001b[0;34m\u001b[0m\u001b[0m\n\u001b[0m\u001b[1;32m    395\u001b[0m \u001b[0;34m\u001b[0m\u001b[0m\n\u001b[1;32m    396\u001b[0m     \u001b[0;32mdef\u001b[0m \u001b[0mfind_elements_by_xpath\u001b[0m\u001b[0;34m(\u001b[0m\u001b[0mself\u001b[0m\u001b[0;34m,\u001b[0m \u001b[0mxpath\u001b[0m\u001b[0;34m)\u001b[0m\u001b[0;34m:\u001b[0m\u001b[0;34m\u001b[0m\u001b[0;34m\u001b[0m\u001b[0m\n",
            "\u001b[0;32m/usr/local/lib/python3.6/dist-packages/selenium/webdriver/remote/webdriver.py\u001b[0m in \u001b[0;36mfind_element\u001b[0;34m(self, by, value)\u001b[0m\n\u001b[1;32m    976\u001b[0m         return self.execute(Command.FIND_ELEMENT, {\n\u001b[1;32m    977\u001b[0m             \u001b[0;34m'using'\u001b[0m\u001b[0;34m:\u001b[0m \u001b[0mby\u001b[0m\u001b[0;34m,\u001b[0m\u001b[0;34m\u001b[0m\u001b[0;34m\u001b[0m\u001b[0m\n\u001b[0;32m--> 978\u001b[0;31m             'value': value})['value']\n\u001b[0m\u001b[1;32m    979\u001b[0m \u001b[0;34m\u001b[0m\u001b[0m\n\u001b[1;32m    980\u001b[0m     \u001b[0;32mdef\u001b[0m \u001b[0mfind_elements\u001b[0m\u001b[0;34m(\u001b[0m\u001b[0mself\u001b[0m\u001b[0;34m,\u001b[0m \u001b[0mby\u001b[0m\u001b[0;34m=\u001b[0m\u001b[0mBy\u001b[0m\u001b[0;34m.\u001b[0m\u001b[0mID\u001b[0m\u001b[0;34m,\u001b[0m \u001b[0mvalue\u001b[0m\u001b[0;34m=\u001b[0m\u001b[0;32mNone\u001b[0m\u001b[0;34m)\u001b[0m\u001b[0;34m:\u001b[0m\u001b[0;34m\u001b[0m\u001b[0;34m\u001b[0m\u001b[0m\n",
            "\u001b[0;32m/usr/local/lib/python3.6/dist-packages/selenium/webdriver/remote/webdriver.py\u001b[0m in \u001b[0;36mexecute\u001b[0;34m(self, driver_command, params)\u001b[0m\n\u001b[1;32m    319\u001b[0m         \u001b[0mresponse\u001b[0m \u001b[0;34m=\u001b[0m \u001b[0mself\u001b[0m\u001b[0;34m.\u001b[0m\u001b[0mcommand_executor\u001b[0m\u001b[0;34m.\u001b[0m\u001b[0mexecute\u001b[0m\u001b[0;34m(\u001b[0m\u001b[0mdriver_command\u001b[0m\u001b[0;34m,\u001b[0m \u001b[0mparams\u001b[0m\u001b[0;34m)\u001b[0m\u001b[0;34m\u001b[0m\u001b[0;34m\u001b[0m\u001b[0m\n\u001b[1;32m    320\u001b[0m         \u001b[0;32mif\u001b[0m \u001b[0mresponse\u001b[0m\u001b[0;34m:\u001b[0m\u001b[0;34m\u001b[0m\u001b[0;34m\u001b[0m\u001b[0m\n\u001b[0;32m--> 321\u001b[0;31m             \u001b[0mself\u001b[0m\u001b[0;34m.\u001b[0m\u001b[0merror_handler\u001b[0m\u001b[0;34m.\u001b[0m\u001b[0mcheck_response\u001b[0m\u001b[0;34m(\u001b[0m\u001b[0mresponse\u001b[0m\u001b[0;34m)\u001b[0m\u001b[0;34m\u001b[0m\u001b[0;34m\u001b[0m\u001b[0m\n\u001b[0m\u001b[1;32m    322\u001b[0m             response['value'] = self._unwrap_value(\n\u001b[1;32m    323\u001b[0m                 response.get('value', None))\n",
            "\u001b[0;32m/usr/local/lib/python3.6/dist-packages/selenium/webdriver/remote/errorhandler.py\u001b[0m in \u001b[0;36mcheck_response\u001b[0;34m(self, response)\u001b[0m\n\u001b[1;32m    240\u001b[0m                 \u001b[0malert_text\u001b[0m \u001b[0;34m=\u001b[0m \u001b[0mvalue\u001b[0m\u001b[0;34m[\u001b[0m\u001b[0;34m'alert'\u001b[0m\u001b[0;34m]\u001b[0m\u001b[0;34m.\u001b[0m\u001b[0mget\u001b[0m\u001b[0;34m(\u001b[0m\u001b[0;34m'text'\u001b[0m\u001b[0;34m)\u001b[0m\u001b[0;34m\u001b[0m\u001b[0;34m\u001b[0m\u001b[0m\n\u001b[1;32m    241\u001b[0m             \u001b[0;32mraise\u001b[0m \u001b[0mexception_class\u001b[0m\u001b[0;34m(\u001b[0m\u001b[0mmessage\u001b[0m\u001b[0;34m,\u001b[0m \u001b[0mscreen\u001b[0m\u001b[0;34m,\u001b[0m \u001b[0mstacktrace\u001b[0m\u001b[0;34m,\u001b[0m \u001b[0malert_text\u001b[0m\u001b[0;34m)\u001b[0m\u001b[0;34m\u001b[0m\u001b[0;34m\u001b[0m\u001b[0m\n\u001b[0;32m--> 242\u001b[0;31m         \u001b[0;32mraise\u001b[0m \u001b[0mexception_class\u001b[0m\u001b[0;34m(\u001b[0m\u001b[0mmessage\u001b[0m\u001b[0;34m,\u001b[0m \u001b[0mscreen\u001b[0m\u001b[0;34m,\u001b[0m \u001b[0mstacktrace\u001b[0m\u001b[0;34m)\u001b[0m\u001b[0;34m\u001b[0m\u001b[0;34m\u001b[0m\u001b[0m\n\u001b[0m\u001b[1;32m    243\u001b[0m \u001b[0;34m\u001b[0m\u001b[0m\n\u001b[1;32m    244\u001b[0m     \u001b[0;32mdef\u001b[0m \u001b[0m_value_or_default\u001b[0m\u001b[0;34m(\u001b[0m\u001b[0mself\u001b[0m\u001b[0;34m,\u001b[0m \u001b[0mobj\u001b[0m\u001b[0;34m,\u001b[0m \u001b[0mkey\u001b[0m\u001b[0;34m,\u001b[0m \u001b[0mdefault\u001b[0m\u001b[0;34m)\u001b[0m\u001b[0;34m:\u001b[0m\u001b[0;34m\u001b[0m\u001b[0;34m\u001b[0m\u001b[0m\n",
            "\u001b[0;31mNoSuchElementException\u001b[0m: Message: no such element: Unable to locate element: {\"method\":\"xpath\",\"selector\":\"//*[@id=\"references-widget\"]/button\"}\n  (Session info: headless chrome=80.0.3987.87)\n"
          ]
        }
      ]
    }
  ]
}