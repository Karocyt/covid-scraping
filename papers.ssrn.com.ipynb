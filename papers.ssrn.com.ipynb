{
 "cells": [
  {
   "cell_type": "markdown",
   "metadata": {
    "colab_type": "text",
    "id": "bRcrZmh5i9ew"
   },
   "source": [
    "example https://papers.ssrn.com/sol3/papers.cfm?abstract_id=3539694"
   ]
  },
  {
   "cell_type": "code",
   "execution_count": 1,
   "metadata": {
    "colab": {
     "base_uri": "https://localhost:8080/",
     "height": 119
    },
    "colab_type": "code",
    "id": "ZNCXCKWyAlti",
    "outputId": "24a8634d-4232-4cf0-ce87-b87286b0f6fb",
    "scrolled": true
   },
   "outputs": [
    {
     "name": "stdout",
     "output_type": "stream",
     "text": [
      "Collecting requests\n",
      "  Using cached https://files.pythonhosted.org/packages/1a/70/1935c770cb3be6e3a8b78ced23d7e0f3b187f5cbfab4749523ed65d7c9b1/requests-2.23.0-py2.py3-none-any.whl\n",
      "Collecting beautifulsoup4\n",
      "  Using cached https://files.pythonhosted.org/packages/cb/a1/c698cf319e9cfed6b17376281bd0efc6bfc8465698f54170ef60a485ab5d/beautifulsoup4-4.8.2-py3-none-any.whl\n",
      "Collecting lxml\n",
      "  Using cached https://files.pythonhosted.org/packages/dd/ba/a0e6866057fc0bbd17192925c1d63a3b85cf522965de9bc02364d08e5b84/lxml-4.5.0-cp36-cp36m-manylinux1_x86_64.whl\n",
      "Collecting datetime\n",
      "  Using cached https://files.pythonhosted.org/packages/73/22/a5297f3a1f92468cc737f8ce7ba6e5f245fcfafeae810ba37bd1039ea01c/DateTime-4.3-py2.py3-none-any.whl\n",
      "Collecting idna<3,>=2.5 (from requests)\n",
      "  Using cached https://files.pythonhosted.org/packages/89/e3/afebe61c546d18fb1709a61bee788254b40e736cff7271c7de5de2dc4128/idna-2.9-py2.py3-none-any.whl\n",
      "Collecting certifi>=2017.4.17 (from requests)\n",
      "  Using cached https://files.pythonhosted.org/packages/b9/63/df50cac98ea0d5b006c55a399c3bf1db9da7b5a24de7890bc9cfd5dd9e99/certifi-2019.11.28-py2.py3-none-any.whl\n",
      "Collecting urllib3!=1.25.0,!=1.25.1,<1.26,>=1.21.1 (from requests)\n",
      "  Using cached https://files.pythonhosted.org/packages/e8/74/6e4f91745020f967d09332bb2b8b9b10090957334692eb88ea4afe91b77f/urllib3-1.25.8-py2.py3-none-any.whl\n",
      "Collecting chardet<4,>=3.0.2 (from requests)\n",
      "  Using cached https://files.pythonhosted.org/packages/bc/a9/01ffebfb562e4274b6487b4bb1ddec7ca55ec7510b22e4c51f14098443b8/chardet-3.0.4-py2.py3-none-any.whl\n",
      "Collecting soupsieve>=1.2 (from beautifulsoup4)\n",
      "  Using cached https://files.pythonhosted.org/packages/05/cf/ea245e52f55823f19992447b008bcbb7f78efc5960d77f6c34b5b45b36dd/soupsieve-2.0-py2.py3-none-any.whl\n",
      "Collecting pytz (from datetime)\n",
      "  Using cached https://files.pythonhosted.org/packages/e7/f9/f0b53f88060247251bf481fa6ea62cd0d25bf1b11a87888e53ce5b7c8ad2/pytz-2019.3-py2.py3-none-any.whl\n",
      "Collecting zope.interface (from datetime)\n",
      "  Using cached https://files.pythonhosted.org/packages/6f/c3/78e4d7fdb46770ea3c6ddaa402d19d435a2a5d3e79492cc0de522460c824/zope.interface-5.0.0-cp36-cp36m-manylinux1_x86_64.whl\n",
      "Collecting setuptools (from zope.interface->datetime)\n",
      "  Using cached https://files.pythonhosted.org/packages/70/b8/b23170ddda9f07c3444d49accde49f2b92f97bb2f2ebc312618ef12e4bd6/setuptools-46.0.0-py3-none-any.whl\n",
      "Installing collected packages: idna, certifi, urllib3, chardet, requests, soupsieve, beautifulsoup4, lxml, pytz, setuptools, zope.interface, datetime\n",
      "Successfully installed beautifulsoup4-4.8.2 certifi-2019.11.28 chardet-3.0.4 datetime-4.3 idna-2.9 lxml-4.5.0 pytz-2019.3 requests-2.23.0 setuptools-46.0.0 soupsieve-2.0 urllib3-1.25.8 zope.interface-5.0.0\n"
     ]
    }
   ],
   "source": [
    "%run ArticleScraper.ipynb"
   ]
  },
  {
   "cell_type": "code",
   "execution_count": 2,
   "metadata": {
    "colab": {},
    "colab_type": "code",
    "id": "WXSKPyznsTqo"
   },
   "outputs": [],
   "source": [
    "class SsrnSingleScraper(ArticleScraper):\n",
    "  page_dict = None\n",
    "\n",
    "  def __init__(self, page_dict):\n",
    "    self.page_dict = page_dict\n",
    "    ArticleScraper.__init__(self, page_dict['link'])\n",
    "\n",
    "  @property\n",
    "  def title(self):\n",
    "    return self.page.head.title.text.split(' by ')[0]\n",
    "\n",
    "  @property\n",
    "  def authors(self):\n",
    "    return self.page.head.title.text.split(' by ')[1].split(\" ::\")[0]\n",
    "\n",
    "  @property\n",
    "  def doi(self):\n",
    "    return None\n",
    "\n",
    "  @property\n",
    "  def abstract(self):\n",
    "    div = self.page.find(\"div\", {\"class\": \"abstract-text\"})\n",
    "    text = div.find(\"p\").text\n",
    "    return text\n",
    "\n",
    "  @property\n",
    "  def date(self):\n",
    "    xpath = '//*[@id=\"selectable\"]/text()'\n",
    "    text = self.tree.xpath(xpath)[0]\n",
    "    try:\n",
    "      date = datetime.strptime(text.split(\")\")[-2].split(\"(\")[-1], '%m/%d/%Y')\n",
    "    except:\n",
    "      date = datetime.strptime(text.split(\")\")[-2].split(\"(\")[-1], '%B %d, %Y')\n",
    "    return date.strftime(self.date_format)\n",
    "\n",
    "  @property\n",
    "  def body(self):\n",
    "    return None\n",
    "\n",
    "  @property\n",
    "  def source(self):\n",
    "    return \"SSRN\"\n",
    "\n",
    "  @property\n",
    "  def source_impact_factor(self):\n",
    "    return None\n",
    "\n",
    "  @property\n",
    "  def search_keyword(self):\n",
    "    return None\n",
    "\n",
    "  @property\n",
    "  def categories(self):\n",
    "    return None\n",
    "\n",
    "  @property\n",
    "  def licence(self):\n",
    "    return None\n",
    "\n",
    "  @property\n",
    "  def citations(self):\n",
    "    return None\n",
    "\n",
    "  @property\n",
    "  def organization(self):\n",
    "    return None\n",
    "\n",
    "  @property\n",
    "  def keywords(self):\n",
    "    keywords = self.tree.xpath('//*[@id=\"maincontent\"]/div[2]/div[1]/div[2]/p[2]/text()')[0]\n",
    "    return \",\".join(keywords.split(';'))\n",
    "\n",
    "  @property\n",
    "  def references(self):\n",
    "    return None\n",
    "\n",
    "  @property\n",
    "  def link(self):\n",
    "    return self.page_dict['link']\n",
    "\n",
    "  @property\n",
    "  def extralinks(self):\n",
    "    return self.page_dict['extra_link']\n",
    "  "
   ]
  },
  {
   "cell_type": "code",
   "execution_count": 3,
   "metadata": {
    "colab": {},
    "colab_type": "code",
    "id": "l_CKHDa_mai_"
   },
   "outputs": [],
   "source": [
    "example_dicts = [{'authors': 'C You, Y Deng, W Hu, J Sun, Q Lin, F Zhou… - Available at SSRN …, 2020 - papers.ssrn.com',\n",
    "  'extra_link': 'https://www.medrxiv.org/content/medrxiv/early/2020/02/11/2020.02.08.20021253.full.pdf',\n",
    "  'extra_link_text': '[PDF] medrxiv.org',\n",
    "  'link': 'https://papers.ssrn.com/sol3/papers.cfm?abstract_id=3539694',\n",
    "  'preview': 'Background: The 2019 novel coronavirus (2019-nCoV) outbreak in Wuhan, China has\\nattracted world-wide attention. As of February 11, 2020, a total of 44,730 cases of\\npneumonia associated with the 2019-nCoV were confirmed by the National Health …',\n",
    "  'title': 'Estimation of the Time-Varying Reproduction Number of COVID-19 Outbreak in China'},\n",
    " {'authors': 'J Gao, P Zheng, Y Jia, H Chen, Y Mao… - Available at SSRN …, 2020 - papers.ssrn.com',\n",
    "  'extra_link': '',\n",
    "  'extra_link_text': '',\n",
    "  'link': 'https://papers.ssrn.com/sol3/papers.cfm?abstract_id=3541120',\n",
    "  'preview': 'Background: Huge citizens expos social media during a novel coronavirus disease (COVID-\\n19) outbroke in Wuhan, China. We assess the prevalence of mental health problems and\\nexamine their association with social media exposure. Methods: We conducted a cross …',\n",
    "  'title': 'Mental Health Problems and Social Media Exposure During COVID-19 Outbreak'},\n",
    " {'authors': 'C GU, W Jiang, T Zhao, B Zheng - Available at SSRN 3551006, 2020 - papers.ssrn.com',\n",
    "  'extra_link': '',\n",
    "  'extra_link_text': '',\n",
    "  'link': 'https://papers.ssrn.com/sol3/papers.cfm?abstract_id=3551006',\n",
    "  'preview': 'The statistics show that the mortality of COVID-19 is 20 times higher than seasonal flu and\\nclose to that of Spanish flu, hence it is becoming an absolute priority for every country to take\\nefficient measure to limit the transmission of COVID-19. In this short paper, we propose a …',\n",
    "  'title': 'Mathematical Recommendations to Fight Against COVID-19'},\n",
    "  ]"
   ]
  },
  {
   "cell_type": "code",
   "execution_count": 4,
   "metadata": {
    "colab": {
     "base_uri": "https://localhost:8080/",
     "height": 1000
    },
    "colab_type": "code",
    "id": "dW_w8jyIzwlJ",
    "outputId": "4adc83b1-b7c0-4521-83c9-9749a590bcfe"
   },
   "outputs": [
    {
     "name": "stdout",
     "output_type": "stream",
     "text": [
      "Title: Estimation of the Time-Varying Reproduction Number of COVID-19 Outbreak in China\n",
      "Authors: Chong You, Yuhao Deng, Wenjie Hu, Jiarui Sun, Qiushi Lin, Feng Zhou, Cheng Heng Pang, Yuan Zhang, Zhengchao Chen, Xiao-Hua Zhou\n",
      "DOI: None\n",
      "Abstract: Background: The 2019 novel coronavirus (2019-nCoV) outbreak in Wuhan, China has attracted world-wide attention. As of February 11, 2020, a total of 44,730 cases of pneumonia associated with the 2019-nCoV were confirmed by the National Health Commission (NHC) of China.    Methods: Three approaches, namely Poisson likelihood-based method (ML), exponential growth rate-based method (EGR) and stochastic Susceptible-Infected-Removed dynamic model-based method (SIR), were implemented to estimate the basic and controlled reproduction numbers.    Results: A total of 71 chains of transmission together with dates of symptoms onset and 67 dates of infections were identified among 5,405 confirmed cases outside Hubei as reported by February 2, 2020. Based on this information, we find the serial interval having an average of 4.27 days with a standard deviation of 3.44 days, the incubation period having an average of 5.33 days with a standard deviation of 3.36 days and the infectious period having an average of 10.91 days with a standard deviation of 3.95 days. The estimated controlled reproduction numbers, 𝑅𝑐 , produced by all three methods in all analyzed regions of China are significantly smaller compared with the basic reproduction numbers 𝑅0. Conclusions: The controlled reproduction number is declining. It is lower than one in most regions of China, but still larger than one in Hubei Province. Sustained efforts are needed to further keep/reduce the 𝑅𝑐 to below one in order to end the current epidemic.Funding Statement: The authors stated that they have no financial relationships (regardless of amount of compensation) with any entities.Declaration of Interests: The authors declare there is no conflict of interest.Ethics Approval Statement: The authors stated this was not required. \n",
      "Date: 02/17/2020\n",
      "Full body: None\n",
      "Source: SSRN\n",
      "Source impact factor: None\n",
      "Search keyword: None\n",
      "Category: None\n",
      "Licencing: None\n",
      "Document acquisition date: 03/20/2020\n",
      "Citations: None\n",
      "Organization affiliated: None\n",
      "Keywords:  serial interval, incubation period, infectious period, reproduction rate\n",
      "References: None\n",
      "Link: https://papers.ssrn.com/sol3/papers.cfm?abstract_id=3539694\n",
      "Extra links: https://www.medrxiv.org/content/medrxiv/early/2020/02/11/2020.02.08.20021253.full.pdf\n",
      "\n",
      "Title: Mental Health Problems and Social Media Exposure During COVID-19 Outbreak\n",
      "Authors: Junling Gao, Pinping Zheng, Yingnan Jia, Hao Chen, Yimeng Mao, Suhong Chen, Yi Wang, Hua Fu, Junming Dai\n",
      "DOI: None\n",
      "Abstract: Background: Huge citizens expos social media during a novel coronavirus disease (COVID-19) outbroke in Wuhan, China. We assess the prevalence of mental health problems and examine their association with social media exposure.  Methods: We conducted a cross-sectional study among Chinese citizens aged ≥18 years old during Jan 31 to Feb 2, 2019. Online survey was used to do rapid assessment. Total of 4872 participants from 31 provinces and autonomous regions were involved in the current study. Besides demographics and social media exposure (SME), depression was assessed by The Chinese version of WHO-Five Well-Being Index (WHO-5) and anxiety was assessed by Chinese version of generalized anxiety disorder scale (GAD-7). multivariable logistic regressions were used to identify associations between social media exposure with mental health problems after controlling for covariates.  Findings: The prevalence of depression, anxiety and combination of depression and anxiety (CDA) was 48.3% (95%CI: 46.9%-49.7%), 22.6% (95%CI: 21.4%-23.8%) and 19.4% (95%CI: 18.3%-20.6%) during COVID-19 outbroke in Wuhan, China. More than 80% (95%CI:80.9%-83.1%) of participants reported frequently exposed to social media. After controlling for covariates, frequently SME was positively associated with high odds of anxiety (OR=1.72, 95%CI: 1.31-2.26) and CDA (OR=1.91, 95%CI: 1.52-2.41) compared with less SME.  Interpretation: Our findings show there are high prevalence of mental health problems, which positively associated with frequently SME during the COVID-19 outbreak. These findings implicated the government need pay more attention to mental health problems, especially depression and anxiety among general population and combating with “infodemic” while combating during public health emergency.Funding Statement: National key R&D Program of China (grant no. 2018YFC2002000 & 2018YFC2002001) and National Natural Science Foundation of China (grant no. 71573048).Declaration of Interests: The authors declare no competing interests.Ethics Approval Statement: This study has been approved by the Institutional Review Board of Fudan University, School of Public Health (IRB#2020-01-0800). \n",
      "Date: 02/17/2020\n",
      "Full body: None\n",
      "Source: SSRN\n",
      "Source impact factor: None\n",
      "Search keyword: None\n",
      "Category: None\n",
      "Licencing: None\n",
      "Document acquisition date: 03/20/2020\n",
      "Citations: None\n",
      "Organization affiliated: None\n",
      "Keywords:  COVID-19, Mental Health, Social Media, Infodemic\n",
      "References: None\n",
      "Link: https://papers.ssrn.com/sol3/papers.cfm?abstract_id=3541120\n",
      "Extra links: \n",
      "\n"
     ]
    },
    {
     "ename": "IndexError",
     "evalue": "list index out of range",
     "output_type": "error",
     "traceback": [
      "\u001b[0;31m---------------------------------------------------------------------------\u001b[0m",
      "\u001b[0;31mIndexError\u001b[0m                                Traceback (most recent call last)",
      "\u001b[0;32m<ipython-input-4-ee3b76f772a0>\u001b[0m in \u001b[0;36m<module>\u001b[0;34m\u001b[0m\n\u001b[1;32m      5\u001b[0m \u001b[0;34m\u001b[0m\u001b[0m\n\u001b[1;32m      6\u001b[0m \u001b[0mscraper\u001b[0m \u001b[0;34m=\u001b[0m \u001b[0mSsrnScraper\u001b[0m\u001b[0;34m(\u001b[0m\u001b[0;34m)\u001b[0m\u001b[0;34m\u001b[0m\u001b[0;34m\u001b[0m\u001b[0m\n\u001b[0;32m----> 7\u001b[0;31m \u001b[0;32mfor\u001b[0m \u001b[0md\u001b[0m \u001b[0;32min\u001b[0m \u001b[0mscraper\u001b[0m\u001b[0;34m.\u001b[0m\u001b[0mparse\u001b[0m\u001b[0;34m(\u001b[0m\u001b[0mexample_dicts\u001b[0m\u001b[0;34m)\u001b[0m\u001b[0;34m:\u001b[0m\u001b[0;34m\u001b[0m\u001b[0;34m\u001b[0m\u001b[0m\n\u001b[0m\u001b[1;32m      8\u001b[0m   \u001b[0;32mfor\u001b[0m \u001b[0mk\u001b[0m \u001b[0;32min\u001b[0m \u001b[0md\u001b[0m\u001b[0;34m:\u001b[0m\u001b[0;34m\u001b[0m\u001b[0;34m\u001b[0m\u001b[0m\n\u001b[1;32m      9\u001b[0m     \u001b[0mprint\u001b[0m\u001b[0;34m(\u001b[0m\u001b[0mk\u001b[0m\u001b[0;34m,\u001b[0m \u001b[0md\u001b[0m\u001b[0;34m[\u001b[0m\u001b[0mk\u001b[0m\u001b[0;34m]\u001b[0m\u001b[0;34m,\u001b[0m \u001b[0msep\u001b[0m\u001b[0;34m=\u001b[0m\u001b[0;34m\": \"\u001b[0m\u001b[0;34m)\u001b[0m\u001b[0;34m\u001b[0m\u001b[0;34m\u001b[0m\u001b[0m\n",
      "\u001b[0;32m<ipython-input-4-ee3b76f772a0>\u001b[0m in \u001b[0;36mparse\u001b[0;34m(self, pages_dict)\u001b[0m\n\u001b[1;32m      2\u001b[0m   \u001b[0;32mdef\u001b[0m \u001b[0mparse\u001b[0m\u001b[0;34m(\u001b[0m\u001b[0mself\u001b[0m\u001b[0;34m,\u001b[0m \u001b[0mpages_dict\u001b[0m\u001b[0;34m)\u001b[0m\u001b[0;34m:\u001b[0m\u001b[0;34m\u001b[0m\u001b[0;34m\u001b[0m\u001b[0m\n\u001b[1;32m      3\u001b[0m     \u001b[0;32mfor\u001b[0m \u001b[0md\u001b[0m \u001b[0;32min\u001b[0m \u001b[0mpages_dict\u001b[0m\u001b[0;34m:\u001b[0m\u001b[0;34m\u001b[0m\u001b[0;34m\u001b[0m\u001b[0m\n\u001b[0;32m----> 4\u001b[0;31m       \u001b[0;32myield\u001b[0m \u001b[0mSsrnSingleScraper\u001b[0m\u001b[0;34m(\u001b[0m\u001b[0md\u001b[0m\u001b[0;34m)\u001b[0m\u001b[0;34m.\u001b[0m\u001b[0mparse\u001b[0m\u001b[0;34m(\u001b[0m\u001b[0;34m)\u001b[0m\u001b[0;34m\u001b[0m\u001b[0;34m\u001b[0m\u001b[0m\n\u001b[0m\u001b[1;32m      5\u001b[0m \u001b[0;34m\u001b[0m\u001b[0m\n\u001b[1;32m      6\u001b[0m \u001b[0mscraper\u001b[0m \u001b[0;34m=\u001b[0m \u001b[0mSsrnScraper\u001b[0m\u001b[0;34m(\u001b[0m\u001b[0;34m)\u001b[0m\u001b[0;34m\u001b[0m\u001b[0;34m\u001b[0m\u001b[0m\n",
      "\u001b[0;32m<ipython-input-1-499f659411ca>\u001b[0m in \u001b[0;36mparse\u001b[0;34m(self)\u001b[0m\n\u001b[1;32m     98\u001b[0m             \u001b[0;34m'Citations'\u001b[0m\u001b[0;34m:\u001b[0m \u001b[0mself\u001b[0m\u001b[0;34m.\u001b[0m\u001b[0mcitations\u001b[0m\u001b[0;34m,\u001b[0m\u001b[0;34m\u001b[0m\u001b[0;34m\u001b[0m\u001b[0m\n\u001b[1;32m     99\u001b[0m             \u001b[0;34m'Organization affiliated'\u001b[0m\u001b[0;34m:\u001b[0m \u001b[0mself\u001b[0m\u001b[0;34m.\u001b[0m\u001b[0morganization\u001b[0m\u001b[0;34m,\u001b[0m\u001b[0;34m\u001b[0m\u001b[0;34m\u001b[0m\u001b[0m\n\u001b[0;32m--> 100\u001b[0;31m             \u001b[0;34m'Keywords'\u001b[0m\u001b[0;34m:\u001b[0m \u001b[0mself\u001b[0m\u001b[0;34m.\u001b[0m\u001b[0mkeywords\u001b[0m\u001b[0;34m,\u001b[0m\u001b[0;34m\u001b[0m\u001b[0;34m\u001b[0m\u001b[0m\n\u001b[0m\u001b[1;32m    101\u001b[0m             \u001b[0;34m'References'\u001b[0m\u001b[0;34m:\u001b[0m \u001b[0mself\u001b[0m\u001b[0;34m.\u001b[0m\u001b[0mreferences\u001b[0m\u001b[0;34m,\u001b[0m\u001b[0;34m\u001b[0m\u001b[0;34m\u001b[0m\u001b[0m\n\u001b[1;32m    102\u001b[0m             \u001b[0;34m'Link'\u001b[0m\u001b[0;34m:\u001b[0m \u001b[0mself\u001b[0m\u001b[0;34m.\u001b[0m\u001b[0mlink\u001b[0m\u001b[0;34m,\u001b[0m\u001b[0;34m\u001b[0m\u001b[0;34m\u001b[0m\u001b[0m\n",
      "\u001b[0;32m<ipython-input-2-3f78b9d250e8>\u001b[0m in \u001b[0;36mkeywords\u001b[0;34m(self)\u001b[0m\n\u001b[1;32m     68\u001b[0m   \u001b[0;34m@\u001b[0m\u001b[0mproperty\u001b[0m\u001b[0;34m\u001b[0m\u001b[0;34m\u001b[0m\u001b[0m\n\u001b[1;32m     69\u001b[0m   \u001b[0;32mdef\u001b[0m \u001b[0mkeywords\u001b[0m\u001b[0;34m(\u001b[0m\u001b[0mself\u001b[0m\u001b[0;34m)\u001b[0m\u001b[0;34m:\u001b[0m\u001b[0;34m\u001b[0m\u001b[0;34m\u001b[0m\u001b[0m\n\u001b[0;32m---> 70\u001b[0;31m     \u001b[0mkeywords\u001b[0m \u001b[0;34m=\u001b[0m \u001b[0mself\u001b[0m\u001b[0;34m.\u001b[0m\u001b[0mtree\u001b[0m\u001b[0;34m.\u001b[0m\u001b[0mxpath\u001b[0m\u001b[0;34m(\u001b[0m\u001b[0;34m'//*[@id=\"maincontent\"]/div[2]/div[1]/div[2]/p[2]/text()'\u001b[0m\u001b[0;34m)\u001b[0m\u001b[0;34m[\u001b[0m\u001b[0;36m0\u001b[0m\u001b[0;34m]\u001b[0m\u001b[0;34m\u001b[0m\u001b[0;34m\u001b[0m\u001b[0m\n\u001b[0m\u001b[1;32m     71\u001b[0m     \u001b[0;32mreturn\u001b[0m \u001b[0;34m\",\"\u001b[0m\u001b[0;34m.\u001b[0m\u001b[0mjoin\u001b[0m\u001b[0;34m(\u001b[0m\u001b[0mkeywords\u001b[0m\u001b[0;34m.\u001b[0m\u001b[0msplit\u001b[0m\u001b[0;34m(\u001b[0m\u001b[0;34m';'\u001b[0m\u001b[0;34m)\u001b[0m\u001b[0;34m)\u001b[0m\u001b[0;34m\u001b[0m\u001b[0;34m\u001b[0m\u001b[0m\n\u001b[1;32m     72\u001b[0m \u001b[0;34m\u001b[0m\u001b[0m\n",
      "\u001b[0;31mIndexError\u001b[0m: list index out of range"
     ]
    }
   ],
   "source": [
    "class SsrnScraper():\n",
    "  def parse(self, pages_dict):\n",
    "    for d in pages_dict:\n",
    "      yield SsrnSingleScraper(d).parse()  \n",
    "\n",
    "scraper = SsrnScraper()\n",
    "for d in scraper.parse(example_dicts):\n",
    "  for k in d:\n",
    "    print(k, d[k], sep=\": \")\n",
    "  print()"
   ]
  }
 ],
 "metadata": {
  "colab": {
   "name": "papers.ssrn.com.ipynb",
   "provenance": []
  },
  "kernelspec": {
   "display_name": "Python 3",
   "language": "python",
   "name": "python3"
  },
  "language_info": {
   "codemirror_mode": {
    "name": "ipython",
    "version": 3
   },
   "file_extension": ".py",
   "mimetype": "text/x-python",
   "name": "python",
   "nbconvert_exporter": "python",
   "pygments_lexer": "ipython3",
   "version": "3.6.8"
  }
 },
 "nbformat": 4,
 "nbformat_minor": 1
}
